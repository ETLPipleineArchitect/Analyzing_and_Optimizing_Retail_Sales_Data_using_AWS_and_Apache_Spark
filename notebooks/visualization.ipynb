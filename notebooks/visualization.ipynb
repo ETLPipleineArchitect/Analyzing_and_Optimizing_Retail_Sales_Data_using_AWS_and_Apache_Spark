{
    "cells": [
        {
            "cell_type": "markdown",
            "metadata": {},
            "source": [
                "# Data Visualization\n",
                "Visualizing the results from the data analysis."
            ]
        },
        {
            "cell_type": "code",
            "execution_count": 1,
            "metadata": {},
            "outputs": [],
            "source": [
                "import pandas as pd\n",
                "import matplotlib.pyplot as plt\n",
                "import seaborn as sns\n",
                "\n",
                "# Load Data\n",
                "monthly_sales = pd.read_csv('data/monthly_sales.csv')\n",
                "\n",
                "# Plot Monthly Sales Trend\n",
                "plt.figure(figsize=(12, 6))\n",
                "sns.lineplot(data=monthly_sales, x='Month', y='TotalSales')\n",
                "plt.title('Monthly Sales Trend')\n",
                "plt.xlabel('Month')\n",
                "plt.ylabel('Total Sales')\n",
                "plt.show()"
            ]
        }
    ],
    "metadata": {
        "kernelspec": {
            "display_name": "Python 3",
            "language": "python",
            "name": "python3"
        },
        "language_info": {
            "name": "python",
            "version": "3.8.5",
            "mimetype": "text/x-python"
        }
    },
    "nbformat": 4,
    "nbformat_minor": 5
}